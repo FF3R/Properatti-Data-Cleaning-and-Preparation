{
 "cells": [
  {
   "cell_type": "code",
   "execution_count": 1,
   "id": "2e0e80ae",
   "metadata": {},
   "outputs": [
    {
     "ename": "FileNotFoundError",
     "evalue": "[Errno 2] No such file or directory: 'C:/Users/franc/OneDrive/Documents/Programacion/DIGITAL HOUSE/TPO/archive/Hotel_Reviews.csv'",
     "output_type": "error",
     "traceback": [
      "\u001b[1;31m---------------------------------------------------------------------------\u001b[0m",
      "\u001b[1;31mFileNotFoundError\u001b[0m                         Traceback (most recent call last)",
      "\u001b[1;32m~\\AppData\\Local\\Temp\\ipykernel_6680\\2506427326.py\u001b[0m in \u001b[0;36m<module>\u001b[1;34m\u001b[0m\n\u001b[0;32m      5\u001b[0m \u001b[1;32mimport\u001b[0m \u001b[0mseaborn\u001b[0m \u001b[1;32mas\u001b[0m \u001b[0msns\u001b[0m\u001b[1;33m\u001b[0m\u001b[1;33m\u001b[0m\u001b[0m\n\u001b[0;32m      6\u001b[0m \u001b[1;33m\u001b[0m\u001b[0m\n\u001b[1;32m----> 7\u001b[1;33m df_hotel_reviews = pd.read_csv('C:/Users/franc/OneDrive/Documents/Programacion/DIGITAL HOUSE/TPO/archive/Hotel_Reviews.csv',\n\u001b[0m\u001b[0;32m      8\u001b[0m                             parse_dates=['Review_Date'])\n\u001b[0;32m      9\u001b[0m \u001b[0mdf_hotel_reviews\u001b[0m\u001b[1;33m[\u001b[0m\u001b[1;34m'Review_Month'\u001b[0m\u001b[1;33m]\u001b[0m\u001b[1;33m=\u001b[0m\u001b[0mdf_hotel_reviews\u001b[0m\u001b[1;33m[\u001b[0m\u001b[1;34m'Review_Date'\u001b[0m\u001b[1;33m]\u001b[0m\u001b[1;33m.\u001b[0m\u001b[0mdt\u001b[0m\u001b[1;33m.\u001b[0m\u001b[0mmonth\u001b[0m\u001b[1;33m\u001b[0m\u001b[1;33m\u001b[0m\u001b[0m\n",
      "\u001b[1;32m~\\anaconda3\\lib\\site-packages\\pandas\\util\\_decorators.py\u001b[0m in \u001b[0;36mwrapper\u001b[1;34m(*args, **kwargs)\u001b[0m\n\u001b[0;32m    309\u001b[0m                     \u001b[0mstacklevel\u001b[0m\u001b[1;33m=\u001b[0m\u001b[0mstacklevel\u001b[0m\u001b[1;33m,\u001b[0m\u001b[1;33m\u001b[0m\u001b[1;33m\u001b[0m\u001b[0m\n\u001b[0;32m    310\u001b[0m                 )\n\u001b[1;32m--> 311\u001b[1;33m             \u001b[1;32mreturn\u001b[0m \u001b[0mfunc\u001b[0m\u001b[1;33m(\u001b[0m\u001b[1;33m*\u001b[0m\u001b[0margs\u001b[0m\u001b[1;33m,\u001b[0m \u001b[1;33m**\u001b[0m\u001b[0mkwargs\u001b[0m\u001b[1;33m)\u001b[0m\u001b[1;33m\u001b[0m\u001b[1;33m\u001b[0m\u001b[0m\n\u001b[0m\u001b[0;32m    312\u001b[0m \u001b[1;33m\u001b[0m\u001b[0m\n\u001b[0;32m    313\u001b[0m         \u001b[1;32mreturn\u001b[0m \u001b[0mwrapper\u001b[0m\u001b[1;33m\u001b[0m\u001b[1;33m\u001b[0m\u001b[0m\n",
      "\u001b[1;32m~\\anaconda3\\lib\\site-packages\\pandas\\io\\parsers\\readers.py\u001b[0m in \u001b[0;36mread_csv\u001b[1;34m(filepath_or_buffer, sep, delimiter, header, names, index_col, usecols, squeeze, prefix, mangle_dupe_cols, dtype, engine, converters, true_values, false_values, skipinitialspace, skiprows, skipfooter, nrows, na_values, keep_default_na, na_filter, verbose, skip_blank_lines, parse_dates, infer_datetime_format, keep_date_col, date_parser, dayfirst, cache_dates, iterator, chunksize, compression, thousands, decimal, lineterminator, quotechar, quoting, doublequote, escapechar, comment, encoding, encoding_errors, dialect, error_bad_lines, warn_bad_lines, on_bad_lines, delim_whitespace, low_memory, memory_map, float_precision, storage_options)\u001b[0m\n\u001b[0;32m    676\u001b[0m     \u001b[0mkwds\u001b[0m\u001b[1;33m.\u001b[0m\u001b[0mupdate\u001b[0m\u001b[1;33m(\u001b[0m\u001b[0mkwds_defaults\u001b[0m\u001b[1;33m)\u001b[0m\u001b[1;33m\u001b[0m\u001b[1;33m\u001b[0m\u001b[0m\n\u001b[0;32m    677\u001b[0m \u001b[1;33m\u001b[0m\u001b[0m\n\u001b[1;32m--> 678\u001b[1;33m     \u001b[1;32mreturn\u001b[0m \u001b[0m_read\u001b[0m\u001b[1;33m(\u001b[0m\u001b[0mfilepath_or_buffer\u001b[0m\u001b[1;33m,\u001b[0m \u001b[0mkwds\u001b[0m\u001b[1;33m)\u001b[0m\u001b[1;33m\u001b[0m\u001b[1;33m\u001b[0m\u001b[0m\n\u001b[0m\u001b[0;32m    679\u001b[0m \u001b[1;33m\u001b[0m\u001b[0m\n\u001b[0;32m    680\u001b[0m \u001b[1;33m\u001b[0m\u001b[0m\n",
      "\u001b[1;32m~\\anaconda3\\lib\\site-packages\\pandas\\io\\parsers\\readers.py\u001b[0m in \u001b[0;36m_read\u001b[1;34m(filepath_or_buffer, kwds)\u001b[0m\n\u001b[0;32m    573\u001b[0m \u001b[1;33m\u001b[0m\u001b[0m\n\u001b[0;32m    574\u001b[0m     \u001b[1;31m# Create the parser.\u001b[0m\u001b[1;33m\u001b[0m\u001b[1;33m\u001b[0m\u001b[0m\n\u001b[1;32m--> 575\u001b[1;33m     \u001b[0mparser\u001b[0m \u001b[1;33m=\u001b[0m \u001b[0mTextFileReader\u001b[0m\u001b[1;33m(\u001b[0m\u001b[0mfilepath_or_buffer\u001b[0m\u001b[1;33m,\u001b[0m \u001b[1;33m**\u001b[0m\u001b[0mkwds\u001b[0m\u001b[1;33m)\u001b[0m\u001b[1;33m\u001b[0m\u001b[1;33m\u001b[0m\u001b[0m\n\u001b[0m\u001b[0;32m    576\u001b[0m \u001b[1;33m\u001b[0m\u001b[0m\n\u001b[0;32m    577\u001b[0m     \u001b[1;32mif\u001b[0m \u001b[0mchunksize\u001b[0m \u001b[1;32mor\u001b[0m \u001b[0miterator\u001b[0m\u001b[1;33m:\u001b[0m\u001b[1;33m\u001b[0m\u001b[1;33m\u001b[0m\u001b[0m\n",
      "\u001b[1;32m~\\anaconda3\\lib\\site-packages\\pandas\\io\\parsers\\readers.py\u001b[0m in \u001b[0;36m__init__\u001b[1;34m(self, f, engine, **kwds)\u001b[0m\n\u001b[0;32m    930\u001b[0m \u001b[1;33m\u001b[0m\u001b[0m\n\u001b[0;32m    931\u001b[0m         \u001b[0mself\u001b[0m\u001b[1;33m.\u001b[0m\u001b[0mhandles\u001b[0m\u001b[1;33m:\u001b[0m \u001b[0mIOHandles\u001b[0m \u001b[1;33m|\u001b[0m \u001b[1;32mNone\u001b[0m \u001b[1;33m=\u001b[0m \u001b[1;32mNone\u001b[0m\u001b[1;33m\u001b[0m\u001b[1;33m\u001b[0m\u001b[0m\n\u001b[1;32m--> 932\u001b[1;33m         \u001b[0mself\u001b[0m\u001b[1;33m.\u001b[0m\u001b[0m_engine\u001b[0m \u001b[1;33m=\u001b[0m \u001b[0mself\u001b[0m\u001b[1;33m.\u001b[0m\u001b[0m_make_engine\u001b[0m\u001b[1;33m(\u001b[0m\u001b[0mf\u001b[0m\u001b[1;33m,\u001b[0m \u001b[0mself\u001b[0m\u001b[1;33m.\u001b[0m\u001b[0mengine\u001b[0m\u001b[1;33m)\u001b[0m\u001b[1;33m\u001b[0m\u001b[1;33m\u001b[0m\u001b[0m\n\u001b[0m\u001b[0;32m    933\u001b[0m \u001b[1;33m\u001b[0m\u001b[0m\n\u001b[0;32m    934\u001b[0m     \u001b[1;32mdef\u001b[0m \u001b[0mclose\u001b[0m\u001b[1;33m(\u001b[0m\u001b[0mself\u001b[0m\u001b[1;33m)\u001b[0m\u001b[1;33m:\u001b[0m\u001b[1;33m\u001b[0m\u001b[1;33m\u001b[0m\u001b[0m\n",
      "\u001b[1;32m~\\anaconda3\\lib\\site-packages\\pandas\\io\\parsers\\readers.py\u001b[0m in \u001b[0;36m_make_engine\u001b[1;34m(self, f, engine)\u001b[0m\n\u001b[0;32m   1214\u001b[0m             \u001b[1;31m# \"Union[str, PathLike[str], ReadCsvBuffer[bytes], ReadCsvBuffer[str]]\"\u001b[0m\u001b[1;33m\u001b[0m\u001b[1;33m\u001b[0m\u001b[0m\n\u001b[0;32m   1215\u001b[0m             \u001b[1;31m# , \"str\", \"bool\", \"Any\", \"Any\", \"Any\", \"Any\", \"Any\"\u001b[0m\u001b[1;33m\u001b[0m\u001b[1;33m\u001b[0m\u001b[0m\n\u001b[1;32m-> 1216\u001b[1;33m             self.handles = get_handle(  # type: ignore[call-overload]\n\u001b[0m\u001b[0;32m   1217\u001b[0m                 \u001b[0mf\u001b[0m\u001b[1;33m,\u001b[0m\u001b[1;33m\u001b[0m\u001b[1;33m\u001b[0m\u001b[0m\n\u001b[0;32m   1218\u001b[0m                 \u001b[0mmode\u001b[0m\u001b[1;33m,\u001b[0m\u001b[1;33m\u001b[0m\u001b[1;33m\u001b[0m\u001b[0m\n",
      "\u001b[1;32m~\\anaconda3\\lib\\site-packages\\pandas\\io\\common.py\u001b[0m in \u001b[0;36mget_handle\u001b[1;34m(path_or_buf, mode, encoding, compression, memory_map, is_text, errors, storage_options)\u001b[0m\n\u001b[0;32m    784\u001b[0m         \u001b[1;32mif\u001b[0m \u001b[0mioargs\u001b[0m\u001b[1;33m.\u001b[0m\u001b[0mencoding\u001b[0m \u001b[1;32mand\u001b[0m \u001b[1;34m\"b\"\u001b[0m \u001b[1;32mnot\u001b[0m \u001b[1;32min\u001b[0m \u001b[0mioargs\u001b[0m\u001b[1;33m.\u001b[0m\u001b[0mmode\u001b[0m\u001b[1;33m:\u001b[0m\u001b[1;33m\u001b[0m\u001b[1;33m\u001b[0m\u001b[0m\n\u001b[0;32m    785\u001b[0m             \u001b[1;31m# Encoding\u001b[0m\u001b[1;33m\u001b[0m\u001b[1;33m\u001b[0m\u001b[0m\n\u001b[1;32m--> 786\u001b[1;33m             handle = open(\n\u001b[0m\u001b[0;32m    787\u001b[0m                 \u001b[0mhandle\u001b[0m\u001b[1;33m,\u001b[0m\u001b[1;33m\u001b[0m\u001b[1;33m\u001b[0m\u001b[0m\n\u001b[0;32m    788\u001b[0m                 \u001b[0mioargs\u001b[0m\u001b[1;33m.\u001b[0m\u001b[0mmode\u001b[0m\u001b[1;33m,\u001b[0m\u001b[1;33m\u001b[0m\u001b[1;33m\u001b[0m\u001b[0m\n",
      "\u001b[1;31mFileNotFoundError\u001b[0m: [Errno 2] No such file or directory: 'C:/Users/franc/OneDrive/Documents/Programacion/DIGITAL HOUSE/TPO/archive/Hotel_Reviews.csv'"
     ]
    }
   ],
   "source": [
    "import matplotlib.pyplot as plt \n",
    "import pandas as pd \n",
    "import plotly.express as px\n",
    "import matplotlib.pyplot as plt \n",
    "import seaborn as sns\n",
    "\n",
    "df_hotel_reviews = pd.read_csv('C:/Users/franc/OneDrive/Documents/Programacion/DIGITAL HOUSE/TPO/archive/Hotel_Reviews.csv',\n",
    "                            parse_dates=['Review_Date'])\n",
    "df_hotel_reviews['Review_Month']=df_hotel_reviews['Review_Date'].dt.month\n",
    "df_hotel_reviews['Review_Year']=df_hotel_reviews['Review_Date'].dt.year"
   ]
  },
  {
   "cell_type": "code",
   "execution_count": null,
   "id": "8cf6744f",
   "metadata": {},
   "outputs": [],
   "source": [
    "df_hotel_reviews.head(5)"
   ]
  },
  {
   "cell_type": "code",
   "execution_count": null,
   "id": "2df207ea",
   "metadata": {},
   "outputs": [],
   "source": [
    "df_uni = df_hotel_reviews[['Hotel_Name','Average_Score']].drop_duplicates()\n",
    "plt.figure(figsize = (14,6))\n",
    "sns.countplot(x = 'Average_Score',data = df_uni,color = 'orange')"
   ]
  },
  {
   "cell_type": "code",
   "execution_count": null,
   "id": "9bddeae2",
   "metadata": {},
   "outputs": [],
   "source": [
    "palette = sns.color_palette(\"bright\")\n",
    "sns.countplot(x='satisfied', data=df_hotel_reviews,palette=\"Set2\")\n",
    "plt.title(\"ratio of satisfied\");"
   ]
  },
  {
   "cell_type": "code",
   "execution_count": null,
   "id": "7fa1063d",
   "metadata": {},
   "outputs": [],
   "source": [
    "df_hotel_reviews.Reviewer_Score.describe().T"
   ]
  },
  {
   "cell_type": "code",
   "execution_count": null,
   "id": "6253aeda",
   "metadata": {},
   "outputs": [],
   "source": [
    "fig = px.histogram(df_hotel_reviews, x=\"Reviewer_Score\", title='Distribucion de Reviews', nbins=20, text_auto=True)\n",
    "fig.show()"
   ]
  },
  {
   "cell_type": "code",
   "execution_count": null,
   "id": "d9408c83",
   "metadata": {},
   "outputs": [],
   "source": [
    "df_hotel_reviews.plot(kind='scatter', \n",
    "                      x='Review_Total_Positive_Word_Counts', \n",
    "                      y='Review_Total_Negative_Word_Counts', \n",
    "                      label='Total reviews',\n",
    "             s=df_hotel_reviews.Total_Number_of_Reviews/100,\n",
    "             c='Reviewer_Score',\n",
    "             cmap=plt.get_cmap('jet'), \n",
    "             colorbar=True, \n",
    "             alpha=0.4, figsize=(15,12),\n",
    "             sharex=False\n",
    "             )\n",
    "font_size = 15\n",
    "plt.title(\"Distribucion de Reviews\",  fontsize=font_size)\n",
    "plt.xlabel(\"Cantidad Total de Palabras Positivas\", fontsize=font_size)\n",
    "plt.ylabel(\"Cantidad Total de Palabras Negativas\",  fontsize=font_size)\n",
    "plt.legend()\n",
    "plt.show()"
   ]
  },
  {
   "cell_type": "code",
   "execution_count": null,
   "id": "db0e85a7",
   "metadata": {},
   "outputs": [],
   "source": [
    "'''Reviewer Nationalities'''\n",
    "df_hotel_reviews.Reviewer_Nationality.value_counts()[:20]"
   ]
  },
  {
   "cell_type": "code",
   "execution_count": null,
   "id": "840eb04e",
   "metadata": {},
   "outputs": [],
   "source": [
    "'''Average Rating For Hotels'''\n",
    "Rating_Frame_1 = df_hotel_reviews.groupby(['Hotel_Name','Average_Score'], as_index=False).mean('Average_Score')\n",
    "Rating_Frame_1.sort_values('Average_Score',ascending=False)\n",
    "Rating_Frame_1"
   ]
  },
  {
   "cell_type": "code",
   "execution_count": null,
   "id": "00723555",
   "metadata": {},
   "outputs": [],
   "source": [
    "#Worst Hotels\n",
    "worst_hotels =df_hotel_reviews.groupby('Hotel_Name')['Reviewer_Score'].mean().sort_values(ascending=True).head(10)\n",
    "worst_hotels.plot(kind=\"bar\",color=\"brown\")\n",
    "_=plt.xlabel('Peores Hoteles Segun Reviews')\n",
    "_=plt.ylabel('Puntage Promedio de la Review')\n",
    "plt.show()"
   ]
  },
  {
   "cell_type": "code",
   "execution_count": null,
   "id": "f3968317",
   "metadata": {},
   "outputs": [],
   "source": [
    "#Best Hotels\n",
    "best_hotels = df_hotel_reviews.groupby('Hotel_Name')['Reviewer_Score'].mean().sort_values(ascending=False).head(10)\n",
    "best_hotels.plot(kind=\"bar\",color = \"wheat\")\n",
    "_=plt.xlabel('Mejores Hoteles Segun Reviews')\n",
    "_=plt.ylabel('Puntage Promedio de la Review')\n",
    "plt.show()"
   ]
  },
  {
   "cell_type": "code",
   "execution_count": null,
   "id": "5647f262",
   "metadata": {},
   "outputs": [],
   "source": [
    "'''Ratings by Nationalities'''\n",
    "Rating_Frame_2 = df_hotel_reviews.groupby(['Reviewer_Nationality'], as_index=False).mean('Average_Score')\n",
    "Rating_Frame_2.sort_values('Average_Score',ascending=False)"
   ]
  },
  {
   "cell_type": "code",
   "execution_count": null,
   "id": "0432d999",
   "metadata": {
    "scrolled": false
   },
   "outputs": [],
   "source": [
    "'''Top Raters by Country on Booking.com'''\n",
    "xAx=Rating_Frame_2.sort_values('Average_Score',ascending=False)['Reviewer_Nationality'].head(10)\n",
    "yAx=Rating_Frame_2.sort_values('Average_Score',ascending=False)['Average_Score'].head(10)\n",
    "plt.figure(figsize=(17,8))\n",
    "plt.bar(xAx,yAx,color='gold')\n",
    "plt.xticks(rotation = 45)\n",
    "x=0.0\n",
    "for xItem, yItem in zip(xAx,yAx):\n",
    "    \n",
    "    plt.text(x-0.1, 8, '({})'.format(round(yItem,2)),fontsize=12,\n",
    "             verticalalignment='center')\n",
    "    x=x+1"
   ]
  },
  {
   "cell_type": "code",
   "execution_count": null,
   "id": "48162259",
   "metadata": {},
   "outputs": [],
   "source": [
    "'''Revierws by Country who Give lowest Ratings'''\n",
    "xAx=Rating_Frame_2.sort_values('Average_Score',ascending=True)['Reviewer_Nationality'].head(10)\n",
    "yAx=Rating_Frame_2.sort_values('Average_Score',ascending=True)['Average_Score'].head(10)\n",
    "plt.figure(figsize=(17,8))\n",
    "plt.bar(xAx,yAx,color='darkorange')\n",
    "plt.xticks(rotation = 45)\n",
    "x=0.0\n",
    "for xItem, yItem in zip(xAx,yAx):\n",
    "    \n",
    "    plt.text(x-0.2,yItem+0.22, '({})'.format(round(yItem,2)),fontsize=12,\n",
    "             verticalalignment='center')\n",
    "    x=x+1"
   ]
  },
  {
   "cell_type": "code",
   "execution_count": null,
   "id": "00473e0b",
   "metadata": {},
   "outputs": [],
   "source": [
    "# obtenemos el numero de huspedes por pais\n",
    "nationality_data = pd.DataFrame(df_hotel_reviews[\"Reviewer_Nationality\"].value_counts())\n",
    "nationality_data.rename(columns={\"Reviewer_Nationality\": \"Numero_huespedes\"}, inplace=True)\n",
    "total_guests = nationality_data[\"Numero_huespedes\"].sum()\n",
    "nationality_data[\"Huespedes en %\"] = round(nationality_data[\"Numero_huespedes\"] / total_guests * 100, 2)\n",
    "nationality_data[\"pais\"] = nationality_data.index\n",
    "#nationality_data[\"pais_otros\"] = nationality_data.index\n",
    "nationality_data['media_puntaje'] = df.groupby([\"Reviewer_Nationality\"]).Reviewer_Score.mean()\n",
    "nationality_data.loc[nationality_data[\"Huespedes en %\"] < 1, \"pais\"] = \"Other\"\n",
    "\n",
    "# visualizamos\n",
    "fig = px.pie(nationality_data,\n",
    "             values=\"Numero_huespedes\",\n",
    "             names=\"pais\",\n",
    "             title=\"Pais de orígen de huéspedes\",\n",
    "             template=\"seaborn\")\n",
    "fig.update_traces(textposition=\"inside\", textinfo=\"percent+label\")\n",
    "fig.show()"
   ]
  },
  {
   "cell_type": "code",
   "execution_count": null,
   "id": "00f374e0",
   "metadata": {},
   "outputs": [],
   "source": [
    "#Correlation Matrix:\n",
    "corr_df = df_hotel_reviews[['Average_Score','Additional_Number_of_Scoring','Review_Total_Negative_Word_Counts','Total_Number_of_Reviews','Review_Total_Positive_Word_Counts','Total_Number_of_Reviews_Reviewer_Has_Given','Reviewer_Score','lat','lng']]    \n",
    "corr_df = corr_df.corr()\n",
    "\n",
    "# Set up the matplot figure\n",
    "f,ax = plt.subplots(figsize=(12,9))\n",
    "\n",
    "#Draw the heatmap using seaborn\n",
    "sns.heatmap(corr_df, cmap='inferno', annot=True)\n",
    "\n"
   ]
  },
  {
   "cell_type": "code",
   "execution_count": null,
   "id": "d6bee0cc",
   "metadata": {},
   "outputs": [],
   "source": [
    "sns.set_theme(style=\"ticks\")\n",
    "a=sns.pairplot(df_hotel_reviews)"
   ]
  },
  {
   "cell_type": "code",
   "execution_count": null,
   "id": "6f0ee81d",
   "metadata": {},
   "outputs": [],
   "source": [
    "columnas = ['Reviewer_Score', 'Average_Score', 'Review_Total_Negative_Word_Counts', 'Total_Number_of_Reviews', \n",
    "           'Review_Total_Positive_Word_Counts', 'Total_Number_of_Reviews_Reviewer_Has_Given']\n",
    "n = 1\n",
    "plt.figure(figsize=(20,15))\n",
    "\n",
    "for column in columnas:\n",
    "  plt.subplot(4,4,n)\n",
    "  n = n+2\n",
    "  sns.boxplot(df_hotel_reviews[column])\n",
    "  plt.tight_layout()"
   ]
  },
  {
   "cell_type": "code",
   "execution_count": null,
   "id": "12c03926",
   "metadata": {},
   "outputs": [],
   "source": []
  }
 ],
 "metadata": {
  "kernelspec": {
   "display_name": "Python 3 (ipykernel)",
   "language": "python",
   "name": "python3"
  },
  "language_info": {
   "codemirror_mode": {
    "name": "ipython",
    "version": 3
   },
   "file_extension": ".py",
   "mimetype": "text/x-python",
   "name": "python",
   "nbconvert_exporter": "python",
   "pygments_lexer": "ipython3",
   "version": "3.9.13"
  }
 },
 "nbformat": 4,
 "nbformat_minor": 5
}
